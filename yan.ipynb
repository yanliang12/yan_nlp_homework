{
 "cells": [
  {
   "cell_type": "markdown",
   "metadata": {},
   "source": [
    "## POS tagging using modified Viterbi"
   ]
  },
  {
   "cell_type": "markdown",
   "metadata": {},
   "source": [
    "###  Using the TreeBank universal tag set corpus, build a Viterbi PoS tagger, then enhance it to solve the problem of unknown words"
   ]
  },
  {
   "cell_type": "markdown",
   "metadata": {},
   "source": [
    "### Data Preparation"
   ]
  },
  {
   "cell_type": "code",
   "execution_count": 6,
   "metadata": {},
   "outputs": [],
   "source": [
    "#Importing libraries\n",
    "import nltk, re, pprint\n",
    "import numpy as np\n",
    "import pandas as pd\n",
    "import requests\n",
    "import matplotlib.pyplot as plt\n",
    "import seaborn as sns\n",
    "import pprint, time\n",
    "import random\n",
    "from sklearn.model_selection import train_test_split\n",
    "from nltk.tokenize import word_tokenize"
   ]
  },
  {
   "cell_type": "code",
   "execution_count": 8,
   "metadata": {},
   "outputs": [
    {
     "name": "stderr",
     "output_type": "stream",
     "text": [
      "[nltk_data] Downloading package treebank to\n",
      "[nltk_data]     C:\\Users\\jywan\\AppData\\Roaming\\nltk_data...\n",
      "[nltk_data]   Package treebank is already up-to-date!\n",
      "[nltk_data] Downloading package universal_tagset to\n",
      "[nltk_data]     C:\\Users\\jywan\\AppData\\Roaming\\nltk_data...\n",
      "[nltk_data]   Unzipping taggers\\universal_tagset.zip.\n"
     ]
    }
   ],
   "source": [
    "# reading the Treebank tagged sentences\n",
    "nltk.download('treebank')\n",
    "nltk.download('universal_tagset')\n",
    "\n",
    "nltk_data = list(nltk.corpus.treebank.tagged_sents(tagset='universal'))"
   ]
  },
  {
   "cell_type": "code",
   "execution_count": 10,
   "metadata": {},
   "outputs": [
    {
     "name": "stdout",
     "output_type": "stream",
     "text": [
      "[[('Pierre', 'NOUN'), ('Vinken', 'NOUN'), (',', '.'), ('61', 'NUM'), ('years', 'NOUN'), ('old', 'ADJ'), (',', '.'), ('will', 'VERB'), ('join', 'VERB'), ('the', 'DET'), ('board', 'NOUN'), ('as', 'ADP'), ('a', 'DET'), ('nonexecutive', 'ADJ'), ('director', 'NOUN'), ('Nov.', 'NOUN'), ('29', 'NUM'), ('.', '.')], [('Mr.', 'NOUN'), ('Vinken', 'NOUN'), ('is', 'VERB'), ('chairman', 'NOUN'), ('of', 'ADP'), ('Elsevier', 'NOUN'), ('N.V.', 'NOUN'), (',', '.'), ('the', 'DET'), ('Dutch', 'NOUN'), ('publishing', 'VERB'), ('group', 'NOUN'), ('.', '.')]]\n"
     ]
    }
   ],
   "source": [
    "# first few tagged sentences\n",
    "print(nltk_data[:2])"
   ]
  },
  {
   "cell_type": "code",
   "execution_count": 11,
   "metadata": {},
   "outputs": [
    {
     "name": "stdout",
     "output_type": "stream",
     "text": [
      "3718\n",
      "196\n",
      "[[('The', 'DET'), ('California', 'NOUN'), ('Supreme', 'NOUN'), ('Court', 'NOUN'), ('last', 'ADJ'), ('year', 'NOUN'), ('reversed', 'VERB'), ('direction', 'NOUN'), ('*-1', 'X'), ('to', 'PRT'), ('make', 'VERB'), ('it', 'PRON'), ('*EXP*-2', 'X'), ('much', 'ADV'), ('harder', 'ADJ'), ('*', 'X'), ('to', 'PRT'), ('win', 'VERB'), ('DES', 'NOUN'), ('cases', 'NOUN'), ('because', 'ADP'), ('the', 'DET'), ('justices', 'NOUN'), ('saw', 'VERB'), ('how', 'ADV'), ('all', 'DET'), ('the', 'DET'), ('pharmaceutical', 'ADJ'), ('litigation', 'NOUN'), ('has', 'VERB'), ('chilled', 'VERB'), ('the', 'DET'), ('introduction', 'NOUN'), ('of', 'ADP'), ('new', 'ADJ'), ('drugs', 'NOUN'), ('*T*-3', 'X'), ('.', '.')], [('PS', 'NOUN'), ('of', 'ADP'), ('New', 'NOUN'), ('Hampshire', 'NOUN'), ('shares', 'NOUN'), ('closed', 'VERB'), ('yesterday', 'NOUN'), ('at', 'ADP'), ('$', '.'), ('3.75', 'NUM'), ('*U*', 'X'), (',', '.'), ('off', 'ADP'), ('25', 'NUM'), ('cents', 'NOUN'), (',', '.'), ('in', 'ADP'), ('New', 'NOUN'), ('York', 'NOUN'), ('Stock', 'NOUN'), ('Exchange', 'NOUN'), ('composite', 'ADJ'), ('trading', 'NOUN'), ('.', '.')]]\n"
     ]
    }
   ],
   "source": [
    "# Splitting into train and test\n",
    "random.seed(1234)\n",
    "train_set, test_set = train_test_split(nltk_data,test_size=0.05)\n",
    "\n",
    "print(len(train_set))\n",
    "print(len(test_set))\n",
    "print(train_set[:2])"
   ]
  },
  {
   "cell_type": "code",
   "execution_count": 12,
   "metadata": {},
   "outputs": [
    {
     "data": {
      "text/plain": [
       "95650"
      ]
     },
     "execution_count": 12,
     "metadata": {},
     "output_type": "execute_result"
    }
   ],
   "source": [
    "# Getting list of tagged words\n",
    "train_tagged_words = [tup for sent in train_set for tup in sent]\n",
    "len(train_tagged_words)"
   ]
  },
  {
   "cell_type": "code",
   "execution_count": 13,
   "metadata": {},
   "outputs": [
    {
     "data": {
      "text/plain": [
       "['The',\n",
       " 'California',\n",
       " 'Supreme',\n",
       " 'Court',\n",
       " 'last',\n",
       " 'year',\n",
       " 'reversed',\n",
       " 'direction',\n",
       " '*-1',\n",
       " 'to']"
      ]
     },
     "execution_count": 13,
     "metadata": {},
     "output_type": "execute_result"
    }
   ],
   "source": [
    "# tokens \n",
    "tokens = [pair[0] for pair in train_tagged_words]\n",
    "tokens[:10]"
   ]
  },
  {
   "cell_type": "code",
   "execution_count": 14,
   "metadata": {},
   "outputs": [
    {
     "name": "stdout",
     "output_type": "stream",
     "text": [
      "12055\n"
     ]
    }
   ],
   "source": [
    "# vocabulary\n",
    "V = set(tokens)\n",
    "print(len(V))"
   ]
  },
  {
   "cell_type": "code",
   "execution_count": 15,
   "metadata": {},
   "outputs": [
    {
     "data": {
      "text/plain": [
       "12"
      ]
     },
     "execution_count": 15,
     "metadata": {},
     "output_type": "execute_result"
    }
   ],
   "source": [
    "# number of tags\n",
    "T = set([pair[1] for pair in train_tagged_words])\n",
    "len(T)"
   ]
  },
  {
   "cell_type": "code",
   "execution_count": 16,
   "metadata": {},
   "outputs": [
    {
     "name": "stdout",
     "output_type": "stream",
     "text": [
      "{'ADV', 'CONJ', 'VERB', 'NOUN', 'ADP', 'NUM', 'DET', 'ADJ', 'PRT', '.', 'PRON', 'X'}\n"
     ]
    }
   ],
   "source": [
    "print(T)"
   ]
  },
  {
   "cell_type": "markdown",
   "metadata": {},
   "source": [
    "##  POS Tagging Algorithm - HMM\n",
    "### Emission Probabilities"
   ]
  },
  {
   "cell_type": "code",
   "execution_count": 17,
   "metadata": {},
   "outputs": [],
   "source": [
    "# computing P(w/t) and storing in T x V matrix\n",
    "t = len(T)\n",
    "v = len(V)\n",
    "w_given_t = np.zeros((t, v))"
   ]
  },
  {
   "cell_type": "code",
   "execution_count": 18,
   "metadata": {},
   "outputs": [],
   "source": [
    "# compute word given tag: Emission Probability\n",
    "def word_given_tag(word, tag, train_bag = train_tagged_words):\n",
    "    tag_list = [pair for pair in train_bag if pair[1]==tag]\n",
    "    count_tag = len(tag_list)\n",
    "    w_given_tag_list = [pair[0] for pair in tag_list if pair[0]==word]\n",
    "    count_w_given_tag = len(w_given_tag_list)\n",
    "    \n",
    "    return (count_w_given_tag, count_tag)"
   ]
  },
  {
   "cell_type": "markdown",
   "metadata": {},
   "source": [
    "### Transition Probabilities"
   ]
  },
  {
   "cell_type": "code",
   "execution_count": 19,
   "metadata": {},
   "outputs": [],
   "source": [
    "# compute tag given tag: tag2(t2) given tag1 (t1), i.e. Transition Probability\n",
    "\n",
    "def t2_given_t1(t2, t1, train_bag = train_tagged_words):\n",
    "    tags = [pair[1] for pair in train_bag]\n",
    "    count_t1 = len([t for t in tags if t==t1])\n",
    "    count_t2_t1 = 0\n",
    "    for index in range(len(tags)-1):\n",
    "        if tags[index]==t1 and tags[index+1] == t2:\n",
    "            count_t2_t1 += 1\n",
    "    return (count_t2_t1, count_t1)"
   ]
  },
  {
   "cell_type": "code",
   "execution_count": 20,
   "metadata": {},
   "outputs": [],
   "source": [
    "# creating t x t transition matrix of tags\n",
    "# each column is t2, each row is t1\n",
    "# thus M(i, j) represents P(tj given ti)\n",
    "\n",
    "tags_matrix = np.zeros((len(T), len(T)), dtype='float32')\n",
    "for i, t1 in enumerate(list(T)):\n",
    "    for j, t2 in enumerate(list(T)): \n",
    "        tags_matrix[i, j] = t2_given_t1(t2, t1)[0]/t2_given_t1(t2, t1)[1]"
   ]
  },
  {
   "cell_type": "code",
   "execution_count": 21,
   "metadata": {},
   "outputs": [
    {
     "data": {
      "text/plain": [
       "array([[8.04369450e-02, 6.62032422e-03, 3.40615690e-01, 3.17775570e-02,\n",
       "        1.20158888e-01, 3.17775570e-02, 6.88513741e-02, 1.30751401e-01,\n",
       "        1.45647135e-02, 1.35716647e-01, 1.48957297e-02, 2.38331687e-02],\n",
       "       [5.27289547e-02, 4.62534692e-04, 1.56336725e-01, 3.50138754e-01,\n",
       "        5.18038869e-02, 4.16281223e-02, 1.19333953e-01, 1.19796485e-01,\n",
       "        5.08788181e-03, 3.56151722e-02, 5.92044406e-02, 7.86308944e-03],\n",
       "       [8.19314644e-02, 5.37383184e-03, 1.68302178e-01, 1.11137070e-01,\n",
       "        9.15109068e-02, 2.31308416e-02, 1.34501562e-01, 6.47196248e-02,\n",
       "        3.06853577e-02, 3.51246111e-02, 3.55919003e-02, 2.17990652e-01],\n",
       "       [1.68275367e-02, 4.28337269e-02, 1.46384999e-01, 2.65343279e-01,\n",
       "        1.76689133e-01, 9.14223306e-03, 1.30030960e-02, 1.23110544e-02,\n",
       "        4.41449657e-02, 2.39810601e-01, 4.62575117e-03, 2.88836285e-02],\n",
       "       [1.38903726e-02, 7.47943181e-04, 8.01367685e-03, 3.21722418e-01,\n",
       "        1.67752970e-02, 6.37888685e-02, 3.23538840e-01, 1.06314778e-01,\n",
       "        1.49588636e-03, 4.02820818e-02, 6.88107684e-02, 3.46190818e-02],\n",
       "       [2.65330193e-03, 1.38561325e-02, 1.82783026e-02, 3.51120293e-01,\n",
       "        3.44929248e-02, 1.86025947e-01, 3.24292458e-03, 3.33136804e-02,\n",
       "        2.74174530e-02, 1.17924526e-01, 1.17924530e-03, 2.10495278e-01],\n",
       "       [1.28143132e-02, 4.83559008e-04, 3.95309478e-02, 6.37330770e-01,\n",
       "        9.18762106e-03, 2.21228246e-02, 5.56092849e-03, 2.05512568e-01,\n",
       "        2.41779504e-04, 1.76499039e-02, 3.62669234e-03, 4.59381044e-02],\n",
       "       [4.44517611e-03, 1.74514316e-02, 1.18538029e-02, 6.99209750e-01,\n",
       "        7.80375376e-02, 2.15673354e-02, 4.44517611e-03, 6.60190955e-02,\n",
       "        1.05367135e-02, 6.51959181e-02, 6.58544595e-04, 2.05795188e-02],\n",
       "       [1.04609346e-02, 2.28832942e-03, 4.02419090e-01, 2.48774111e-01,\n",
       "        1.96142532e-02, 5.75351417e-02, 9.90519747e-02, 8.59758109e-02,\n",
       "        1.30761683e-03, 4.24975492e-02, 1.73259228e-02, 1.27492640e-02],\n",
       "       [5.34529164e-02, 5.82062788e-02, 8.89686123e-02, 2.21793726e-01,\n",
       "        9.10313874e-02, 8.09865445e-02, 1.73811659e-01, 4.39461879e-02,\n",
       "        2.42152461e-03, 9.31838602e-02, 6.49327338e-02, 2.71748882e-02],\n",
       "       [3.44427228e-02, 3.86996893e-03, 4.84520137e-01, 2.14009285e-01,\n",
       "        2.32198145e-02, 7.35294120e-03, 9.28792544e-03, 7.19814226e-02,\n",
       "        1.16099073e-02, 3.98606807e-02, 8.12693499e-03, 9.17182639e-02],\n",
       "       [2.56287809e-02, 1.05062081e-02, 2.04075143e-01, 6.08086586e-02,\n",
       "        1.43107295e-01, 2.86532962e-03, 5.47596291e-02, 1.63960531e-02,\n",
       "        1.85291305e-01, 1.65074810e-01, 5.52371852e-02, 7.62495995e-02]],\n",
       "      dtype=float32)"
      ]
     },
     "execution_count": 21,
     "metadata": {},
     "output_type": "execute_result"
    }
   ],
   "source": [
    "tags_matrix"
   ]
  },
  {
   "cell_type": "code",
   "execution_count": 22,
   "metadata": {},
   "outputs": [],
   "source": [
    "# convert the matrix to a df for better readability\n",
    "tags_df = pd.DataFrame(tags_matrix, columns = list(T), index=list(T))"
   ]
  },
  {
   "cell_type": "code",
   "execution_count": 23,
   "metadata": {},
   "outputs": [
    {
     "data": {
      "text/html": [
       "<div>\n",
       "<style scoped>\n",
       "    .dataframe tbody tr th:only-of-type {\n",
       "        vertical-align: middle;\n",
       "    }\n",
       "\n",
       "    .dataframe tbody tr th {\n",
       "        vertical-align: top;\n",
       "    }\n",
       "\n",
       "    .dataframe thead th {\n",
       "        text-align: right;\n",
       "    }\n",
       "</style>\n",
       "<table border=\"1\" class=\"dataframe\">\n",
       "  <thead>\n",
       "    <tr style=\"text-align: right;\">\n",
       "      <th></th>\n",
       "      <th>ADV</th>\n",
       "      <th>CONJ</th>\n",
       "      <th>VERB</th>\n",
       "      <th>NOUN</th>\n",
       "      <th>ADP</th>\n",
       "      <th>NUM</th>\n",
       "      <th>DET</th>\n",
       "      <th>ADJ</th>\n",
       "      <th>PRT</th>\n",
       "      <th>.</th>\n",
       "      <th>PRON</th>\n",
       "      <th>X</th>\n",
       "    </tr>\n",
       "  </thead>\n",
       "  <tbody>\n",
       "    <tr>\n",
       "      <th>ADV</th>\n",
       "      <td>0.080437</td>\n",
       "      <td>0.006620</td>\n",
       "      <td>0.340616</td>\n",
       "      <td>0.031778</td>\n",
       "      <td>0.120159</td>\n",
       "      <td>0.031778</td>\n",
       "      <td>0.068851</td>\n",
       "      <td>0.130751</td>\n",
       "      <td>0.014565</td>\n",
       "      <td>0.135717</td>\n",
       "      <td>0.014896</td>\n",
       "      <td>0.023833</td>\n",
       "    </tr>\n",
       "    <tr>\n",
       "      <th>CONJ</th>\n",
       "      <td>0.052729</td>\n",
       "      <td>0.000463</td>\n",
       "      <td>0.156337</td>\n",
       "      <td>0.350139</td>\n",
       "      <td>0.051804</td>\n",
       "      <td>0.041628</td>\n",
       "      <td>0.119334</td>\n",
       "      <td>0.119796</td>\n",
       "      <td>0.005088</td>\n",
       "      <td>0.035615</td>\n",
       "      <td>0.059204</td>\n",
       "      <td>0.007863</td>\n",
       "    </tr>\n",
       "    <tr>\n",
       "      <th>VERB</th>\n",
       "      <td>0.081931</td>\n",
       "      <td>0.005374</td>\n",
       "      <td>0.168302</td>\n",
       "      <td>0.111137</td>\n",
       "      <td>0.091511</td>\n",
       "      <td>0.023131</td>\n",
       "      <td>0.134502</td>\n",
       "      <td>0.064720</td>\n",
       "      <td>0.030685</td>\n",
       "      <td>0.035125</td>\n",
       "      <td>0.035592</td>\n",
       "      <td>0.217991</td>\n",
       "    </tr>\n",
       "    <tr>\n",
       "      <th>NOUN</th>\n",
       "      <td>0.016828</td>\n",
       "      <td>0.042834</td>\n",
       "      <td>0.146385</td>\n",
       "      <td>0.265343</td>\n",
       "      <td>0.176689</td>\n",
       "      <td>0.009142</td>\n",
       "      <td>0.013003</td>\n",
       "      <td>0.012311</td>\n",
       "      <td>0.044145</td>\n",
       "      <td>0.239811</td>\n",
       "      <td>0.004626</td>\n",
       "      <td>0.028884</td>\n",
       "    </tr>\n",
       "    <tr>\n",
       "      <th>ADP</th>\n",
       "      <td>0.013890</td>\n",
       "      <td>0.000748</td>\n",
       "      <td>0.008014</td>\n",
       "      <td>0.321722</td>\n",
       "      <td>0.016775</td>\n",
       "      <td>0.063789</td>\n",
       "      <td>0.323539</td>\n",
       "      <td>0.106315</td>\n",
       "      <td>0.001496</td>\n",
       "      <td>0.040282</td>\n",
       "      <td>0.068811</td>\n",
       "      <td>0.034619</td>\n",
       "    </tr>\n",
       "    <tr>\n",
       "      <th>NUM</th>\n",
       "      <td>0.002653</td>\n",
       "      <td>0.013856</td>\n",
       "      <td>0.018278</td>\n",
       "      <td>0.351120</td>\n",
       "      <td>0.034493</td>\n",
       "      <td>0.186026</td>\n",
       "      <td>0.003243</td>\n",
       "      <td>0.033314</td>\n",
       "      <td>0.027417</td>\n",
       "      <td>0.117925</td>\n",
       "      <td>0.001179</td>\n",
       "      <td>0.210495</td>\n",
       "    </tr>\n",
       "    <tr>\n",
       "      <th>DET</th>\n",
       "      <td>0.012814</td>\n",
       "      <td>0.000484</td>\n",
       "      <td>0.039531</td>\n",
       "      <td>0.637331</td>\n",
       "      <td>0.009188</td>\n",
       "      <td>0.022123</td>\n",
       "      <td>0.005561</td>\n",
       "      <td>0.205513</td>\n",
       "      <td>0.000242</td>\n",
       "      <td>0.017650</td>\n",
       "      <td>0.003627</td>\n",
       "      <td>0.045938</td>\n",
       "    </tr>\n",
       "    <tr>\n",
       "      <th>ADJ</th>\n",
       "      <td>0.004445</td>\n",
       "      <td>0.017451</td>\n",
       "      <td>0.011854</td>\n",
       "      <td>0.699210</td>\n",
       "      <td>0.078038</td>\n",
       "      <td>0.021567</td>\n",
       "      <td>0.004445</td>\n",
       "      <td>0.066019</td>\n",
       "      <td>0.010537</td>\n",
       "      <td>0.065196</td>\n",
       "      <td>0.000659</td>\n",
       "      <td>0.020580</td>\n",
       "    </tr>\n",
       "    <tr>\n",
       "      <th>PRT</th>\n",
       "      <td>0.010461</td>\n",
       "      <td>0.002288</td>\n",
       "      <td>0.402419</td>\n",
       "      <td>0.248774</td>\n",
       "      <td>0.019614</td>\n",
       "      <td>0.057535</td>\n",
       "      <td>0.099052</td>\n",
       "      <td>0.085976</td>\n",
       "      <td>0.001308</td>\n",
       "      <td>0.042498</td>\n",
       "      <td>0.017326</td>\n",
       "      <td>0.012749</td>\n",
       "    </tr>\n",
       "    <tr>\n",
       "      <th>.</th>\n",
       "      <td>0.053453</td>\n",
       "      <td>0.058206</td>\n",
       "      <td>0.088969</td>\n",
       "      <td>0.221794</td>\n",
       "      <td>0.091031</td>\n",
       "      <td>0.080987</td>\n",
       "      <td>0.173812</td>\n",
       "      <td>0.043946</td>\n",
       "      <td>0.002422</td>\n",
       "      <td>0.093184</td>\n",
       "      <td>0.064933</td>\n",
       "      <td>0.027175</td>\n",
       "    </tr>\n",
       "    <tr>\n",
       "      <th>PRON</th>\n",
       "      <td>0.034443</td>\n",
       "      <td>0.003870</td>\n",
       "      <td>0.484520</td>\n",
       "      <td>0.214009</td>\n",
       "      <td>0.023220</td>\n",
       "      <td>0.007353</td>\n",
       "      <td>0.009288</td>\n",
       "      <td>0.071981</td>\n",
       "      <td>0.011610</td>\n",
       "      <td>0.039861</td>\n",
       "      <td>0.008127</td>\n",
       "      <td>0.091718</td>\n",
       "    </tr>\n",
       "    <tr>\n",
       "      <th>X</th>\n",
       "      <td>0.025629</td>\n",
       "      <td>0.010506</td>\n",
       "      <td>0.204075</td>\n",
       "      <td>0.060809</td>\n",
       "      <td>0.143107</td>\n",
       "      <td>0.002865</td>\n",
       "      <td>0.054760</td>\n",
       "      <td>0.016396</td>\n",
       "      <td>0.185291</td>\n",
       "      <td>0.165075</td>\n",
       "      <td>0.055237</td>\n",
       "      <td>0.076250</td>\n",
       "    </tr>\n",
       "  </tbody>\n",
       "</table>\n",
       "</div>"
      ],
      "text/plain": [
       "           ADV      CONJ      VERB      NOUN       ADP       NUM       DET  \\\n",
       "ADV   0.080437  0.006620  0.340616  0.031778  0.120159  0.031778  0.068851   \n",
       "CONJ  0.052729  0.000463  0.156337  0.350139  0.051804  0.041628  0.119334   \n",
       "VERB  0.081931  0.005374  0.168302  0.111137  0.091511  0.023131  0.134502   \n",
       "NOUN  0.016828  0.042834  0.146385  0.265343  0.176689  0.009142  0.013003   \n",
       "ADP   0.013890  0.000748  0.008014  0.321722  0.016775  0.063789  0.323539   \n",
       "NUM   0.002653  0.013856  0.018278  0.351120  0.034493  0.186026  0.003243   \n",
       "DET   0.012814  0.000484  0.039531  0.637331  0.009188  0.022123  0.005561   \n",
       "ADJ   0.004445  0.017451  0.011854  0.699210  0.078038  0.021567  0.004445   \n",
       "PRT   0.010461  0.002288  0.402419  0.248774  0.019614  0.057535  0.099052   \n",
       ".     0.053453  0.058206  0.088969  0.221794  0.091031  0.080987  0.173812   \n",
       "PRON  0.034443  0.003870  0.484520  0.214009  0.023220  0.007353  0.009288   \n",
       "X     0.025629  0.010506  0.204075  0.060809  0.143107  0.002865  0.054760   \n",
       "\n",
       "           ADJ       PRT         .      PRON         X  \n",
       "ADV   0.130751  0.014565  0.135717  0.014896  0.023833  \n",
       "CONJ  0.119796  0.005088  0.035615  0.059204  0.007863  \n",
       "VERB  0.064720  0.030685  0.035125  0.035592  0.217991  \n",
       "NOUN  0.012311  0.044145  0.239811  0.004626  0.028884  \n",
       "ADP   0.106315  0.001496  0.040282  0.068811  0.034619  \n",
       "NUM   0.033314  0.027417  0.117925  0.001179  0.210495  \n",
       "DET   0.205513  0.000242  0.017650  0.003627  0.045938  \n",
       "ADJ   0.066019  0.010537  0.065196  0.000659  0.020580  \n",
       "PRT   0.085976  0.001308  0.042498  0.017326  0.012749  \n",
       ".     0.043946  0.002422  0.093184  0.064933  0.027175  \n",
       "PRON  0.071981  0.011610  0.039861  0.008127  0.091718  \n",
       "X     0.016396  0.185291  0.165075  0.055237  0.076250  "
      ]
     },
     "execution_count": 23,
     "metadata": {},
     "output_type": "execute_result"
    }
   ],
   "source": [
    "tags_df"
   ]
  },
  {
   "cell_type": "code",
   "execution_count": 24,
   "metadata": {},
   "outputs": [
    {
     "data": {
      "text/plain": [
       "ADV     0.053453\n",
       "CONJ    0.058206\n",
       "VERB    0.088969\n",
       "NOUN    0.221794\n",
       "ADP     0.091031\n",
       "NUM     0.080987\n",
       "DET     0.173812\n",
       "ADJ     0.043946\n",
       "PRT     0.002422\n",
       ".       0.093184\n",
       "PRON    0.064933\n",
       "X       0.027175\n",
       "Name: ., dtype: float32"
      ]
     },
     "execution_count": 24,
     "metadata": {},
     "output_type": "execute_result"
    }
   ],
   "source": [
    "tags_df.loc['.', :]"
   ]
  },
  {
   "cell_type": "code",
   "execution_count": 25,
   "metadata": {},
   "outputs": [
    {
     "data": {
      "image/png": "[encoded data removed]",
      "text/plain": [
       "<Figure size 1296x864 with 2 Axes>"
      ]
     },
     "metadata": {
      "needs_background": "light"
     },
     "output_type": "display_data"
    }
   ],
   "source": [
    "# heatmap of tags matrix\n",
    "# T(i, j) means P(tag j given tag i)\n",
    "plt.figure(figsize=(18, 12))\n",
    "sns.heatmap(tags_df)\n",
    "plt.show()\n"
   ]
  },
  {
   "cell_type": "code",
   "execution_count": 26,
   "metadata": {},
   "outputs": [
    {
     "data": {
      "image/png": "[encoded data removed]",
      "text/plain": [
       "<Figure size 1296x864 with 2 Axes>"
      ]
     },
     "metadata": {
      "needs_background": "light"
     },
     "output_type": "display_data"
    }
   ],
   "source": [
    "# frequent tags\n",
    "# filter the df to get P(t2, t1) > 0.5\n",
    "tags_frequent = tags_df[tags_df>0.5]\n",
    "plt.figure(figsize=(18, 12))\n",
    "sns.heatmap(tags_frequent)\n",
    "plt.show()"
   ]
  },
  {
   "cell_type": "code",
   "execution_count": 27,
   "metadata": {},
   "outputs": [
    {
     "data": {
      "text/plain": [
       "95650"
      ]
     },
     "execution_count": 27,
     "metadata": {},
     "output_type": "execute_result"
    }
   ],
   "source": [
    "len(train_tagged_words)"
   ]
  },
  {
   "cell_type": "code",
   "execution_count": null,
   "metadata": {},
   "outputs": [],
   "source": []
  },
  {
   "cell_type": "markdown",
   "metadata": {},
   "source": [
    "### Build the vanilla Viterbi based POS tagger"
   ]
  },
  {
   "cell_type": "code",
   "execution_count": 28,
   "metadata": {},
   "outputs": [],
   "source": [
    "# Viterbi Heuristic\n",
    "def Viterbi(words, train_bag = train_tagged_words):\n",
    "    state = []\n",
    "    T = list(set([pair[1] for pair in train_bag]))\n",
    "    \n",
    "    for key, word in enumerate(words):\n",
    "        #initialise list of probability column for a given observation\n",
    "        p = [] \n",
    "        for tag in T:\n",
    "            if key == 0:\n",
    "                transition_p = tags_df.loc['.', tag]\n",
    "            else:\n",
    "                transition_p = tags_df.loc[state[-1], tag]\n",
    "                \n",
    "            # compute emission and state probabilities\n",
    "            emission_p = word_given_tag(words[key], tag)[0]/word_given_tag(words[key], tag)[1]\n",
    "            state_probability = emission_p * transition_p    \n",
    "            p.append(state_probability)\n",
    "            \n",
    "        pmax = max(p)\n",
    "        # getting state for which probability is maximum\n",
    "        state_max = T[p.index(pmax)] \n",
    "        state.append(state_max)\n",
    "    return list(zip(words, state))"
   ]
  },
  {
   "cell_type": "code",
   "execution_count": 29,
   "metadata": {},
   "outputs": [
    {
     "data": {
      "text/plain": [
       "[[('New', 'NOUN'),\n",
       "  ('York', 'NOUN'),\n",
       "  ('financier', 'NOUN'),\n",
       "  ('Saul', 'NOUN'),\n",
       "  ('Steinberg', 'NOUN'),\n",
       "  ('sought', 'VERB'),\n",
       "  ('federal', 'ADJ'),\n",
       "  ('permission', 'NOUN'),\n",
       "  ('*', 'X'),\n",
       "  ('to', 'PRT'),\n",
       "  ('buy', 'VERB'),\n",
       "  ('more', 'ADJ'),\n",
       "  ('than', 'ADP'),\n",
       "  ('15', 'NUM'),\n",
       "  ('%', 'NOUN'),\n",
       "  ('of', 'ADP'),\n",
       "  ('United', 'NOUN'),\n",
       "  ('Airlines', 'NOUN'),\n",
       "  (\"'\", 'PRT'),\n",
       "  ('parent', 'NOUN'),\n",
       "  (',', '.'),\n",
       "  ('UAL', 'NOUN'),\n",
       "  ('Corp.', 'NOUN'),\n",
       "  (',', '.'),\n",
       "  ('*-1', 'X'),\n",
       "  ('saying', 'VERB'),\n",
       "  ('0', 'X'),\n",
       "  ('he', 'PRON'),\n",
       "  ('might', 'VERB'),\n",
       "  ('seek', 'VERB'),\n",
       "  ('control', 'NOUN'),\n",
       "  ('of', 'ADP'),\n",
       "  ('the', 'DET'),\n",
       "  ('nation', 'NOUN'),\n",
       "  (\"'s\", 'PRT'),\n",
       "  ('second-largest', 'ADJ'),\n",
       "  ('airline', 'NOUN'),\n",
       "  ('.', '.')],\n",
       " [('Interviews', 'NOUN'),\n",
       "  ('with', 'ADP'),\n",
       "  ('analysts', 'NOUN'),\n",
       "  ('and', 'CONJ'),\n",
       "  ('business', 'NOUN'),\n",
       "  ('people', 'NOUN'),\n",
       "  ('in', 'ADP'),\n",
       "  ('the', 'DET'),\n",
       "  ('U.S.', 'NOUN'),\n",
       "  ('suggest', 'VERB'),\n",
       "  ('that', 'ADP'),\n",
       "  ('Japanese', 'ADJ'),\n",
       "  ('capital', 'NOUN'),\n",
       "  ('may', 'VERB'),\n",
       "  ('produce', 'VERB'),\n",
       "  ('the', 'DET'),\n",
       "  ('economic', 'ADJ'),\n",
       "  ('cooperation', 'NOUN'),\n",
       "  ('that', 'ADP'),\n",
       "  ('Southeast', 'ADJ'),\n",
       "  ('Asian', 'ADJ'),\n",
       "  ('politicians', 'NOUN'),\n",
       "  ('have', 'VERB'),\n",
       "  ('pursued', 'VERB'),\n",
       "  ('*T*-2', 'X'),\n",
       "  ('in', 'ADP'),\n",
       "  ('fits', 'NOUN'),\n",
       "  ('and', 'CONJ'),\n",
       "  ('starts', 'NOUN'),\n",
       "  ('for', 'ADP'),\n",
       "  ('decades', 'NOUN'),\n",
       "  ('.', '.')],\n",
       " [('Jerry', 'NOUN'),\n",
       "  ('Chapman', 'NOUN'),\n",
       "  (',', '.'),\n",
       "  ('managing', 'VERB'),\n",
       "  ('director', 'NOUN'),\n",
       "  ('of', 'ADP'),\n",
       "  ('WayMar', 'NOUN'),\n",
       "  ('Associates', 'NOUN'),\n",
       "  (',', '.'),\n",
       "  ('was', 'VERB'),\n",
       "  ('elected', 'VERB'),\n",
       "  ('*-1', 'X'),\n",
       "  ('a', 'DET'),\n",
       "  ('director', 'NOUN'),\n",
       "  ('of', 'ADP'),\n",
       "  ('this', 'DET'),\n",
       "  ('business', 'NOUN'),\n",
       "  ('telecommunications', 'NOUN'),\n",
       "  ('software', 'NOUN'),\n",
       "  ('and', 'CONJ'),\n",
       "  ('systems', 'NOUN'),\n",
       "  ('concern', 'NOUN'),\n",
       "  ('.', '.')],\n",
       " [('Dealers', 'NOUN'),\n",
       "  ('said', 'VERB'),\n",
       "  ('0', 'X'),\n",
       "  ('that', 'DET'),\n",
       "  ('interpretation', 'NOUN'),\n",
       "  ('sparked', 'VERB'),\n",
       "  ('expectations', 'NOUN'),\n",
       "  ('of', 'ADP'),\n",
       "  ('an', 'DET'),\n",
       "  ('imminent', 'ADJ'),\n",
       "  ('bid', 'NOUN'),\n",
       "  ('by', 'ADP'),\n",
       "  ('Ford', 'NOUN'),\n",
       "  ('.', '.')],\n",
       " [('Sony', 'NOUN'),\n",
       "  (\"'s\", 'PRT'),\n",
       "  ('planned', 'VERB'),\n",
       "  ('acquisition', 'NOUN'),\n",
       "  ('of', 'ADP'),\n",
       "  ('Guber\\\\/Peters', 'NOUN'),\n",
       "  ('Entertainment', 'NOUN'),\n",
       "  ('Co.', 'NOUN'),\n",
       "  ('for', 'ADP'),\n",
       "  ('$', '.'),\n",
       "  ('200', 'NUM'),\n",
       "  ('million', 'NUM'),\n",
       "  ('*U*', 'X'),\n",
       "  ('is', 'VERB'),\n",
       "  ('scheduled', 'VERB'),\n",
       "  ('*-1', 'X'),\n",
       "  ('to', 'PRT'),\n",
       "  ('close', 'VERB'),\n",
       "  ('Monday', 'NOUN'),\n",
       "  ('.', '.')]]"
      ]
     },
     "execution_count": 29,
     "metadata": {},
     "output_type": "execute_result"
    }
   ],
   "source": [
    "# Running on entire test dataset would take more than 3-4hrs. \n",
    "# Let's test our Viterbi algorithm on a few sample sentences of test dataset\n",
    "\n",
    "random.seed(1234)\n",
    "\n",
    "# choose random 5 sents\n",
    "rndom = [random.randint(1,len(test_set)) for x in range(5)]\n",
    "\n",
    "# list of sents\n",
    "test_run = [test_set[i] for i in rndom]\n",
    "\n",
    "# list of tagged words\n",
    "test_run_base = [tup for sent in test_run for tup in sent]\n",
    "\n",
    "# list of untagged words\n",
    "test_tagged_words = [tup[0] for sent in test_run for tup in sent]\n",
    "test_run"
   ]
  },
  {
   "cell_type": "code",
   "execution_count": 30,
   "metadata": {},
   "outputs": [],
   "source": [
    "# tagging the test sentences\n",
    "start = time.time()\n",
    "tagged_seq = Viterbi(test_tagged_words)\n",
    "end = time.time()\n",
    "difference = end-start"
   ]
  },
  {
   "cell_type": "code",
   "execution_count": 31,
   "metadata": {},
   "outputs": [
    {
     "name": "stdout",
     "output_type": "stream",
     "text": [
      "Time taken in seconds:  19.284415006637573\n",
      "[('New', 'NOUN'), ('York', 'NOUN'), ('financier', 'ADV'), ('Saul', 'ADV'), ('Steinberg', 'NOUN'), ('sought', 'VERB'), ('federal', 'ADJ'), ('permission', 'NOUN'), ('*', 'X'), ('to', 'PRT'), ('buy', 'VERB'), ('more', 'ADV'), ('than', 'ADP'), ('15', 'NUM'), ('%', 'NOUN'), ('of', 'ADP'), ('United', 'NOUN'), ('Airlines', 'NOUN'), (\"'\", 'PRT'), ('parent', 'NOUN'), (',', '.'), ('UAL', 'NOUN'), ('Corp.', 'NOUN'), (',', '.'), ('*-1', 'X'), ('saying', 'VERB'), ('0', 'X'), ('he', 'PRON'), ('might', 'VERB'), ('seek', 'VERB'), ('control', 'NOUN'), ('of', 'ADP'), ('the', 'DET'), ('nation', 'NOUN'), (\"'s\", 'PRT'), ('second-largest', 'ADJ'), ('airline', 'NOUN'), ('.', '.'), ('Interviews', 'ADV'), ('with', 'ADP'), ('analysts', 'NOUN'), ('and', 'CONJ'), ('business', 'NOUN'), ('people', 'NOUN'), ('in', 'ADP'), ('the', 'DET'), ('U.S.', 'NOUN'), ('suggest', 'VERB'), ('that', 'ADP'), ('Japanese', 'ADJ'), ('capital', 'NOUN'), ('may', 'VERB'), ('produce', 'VERB'), ('the', 'DET'), ('economic', 'ADJ'), ('cooperation', 'NOUN'), ('that', 'ADP'), ('Southeast', 'NOUN'), ('Asian', 'ADJ'), ('politicians', 'NOUN'), ('have', 'VERB'), ('pursued', 'VERB'), ('*T*-2', 'X'), ('in', 'ADP'), ('fits', 'ADV'), ('and', 'CONJ'), ('starts', 'VERB'), ('for', 'ADP'), ('decades', 'NOUN'), ('.', '.'), ('Jerry', 'NOUN'), ('Chapman', 'ADV'), (',', '.'), ('managing', 'VERB'), ('director', 'NOUN'), ('of', 'ADP'), ('WayMar', 'ADV'), ('Associates', 'NOUN'), (',', '.'), ('was', 'VERB'), ('elected', 'VERB'), ('*-1', 'X'), ('a', 'DET'), ('director', 'NOUN'), ('of', 'ADP'), ('this', 'DET'), ('business', 'NOUN'), ('telecommunications', 'NOUN'), ('software', 'NOUN'), ('and', 'CONJ'), ('systems', 'NOUN'), ('concern', 'NOUN'), ('.', '.'), ('Dealers', 'NOUN'), ('said', 'VERB'), ('0', 'X'), ('that', 'ADP'), ('interpretation', 'NOUN'), ('sparked', 'VERB'), ('expectations', 'NOUN'), ('of', 'ADP'), ('an', 'DET'), ('imminent', 'ADJ'), ('bid', 'NOUN'), ('by', 'ADP'), ('Ford', 'NOUN'), ('.', '.'), ('Sony', 'NOUN'), (\"'s\", 'PRT'), ('planned', 'VERB'), ('acquisition', 'NOUN'), ('of', 'ADP'), ('Guber\\\\/Peters', 'NOUN'), ('Entertainment', 'NOUN'), ('Co.', 'NOUN'), ('for', 'ADP'), ('$', '.'), ('200', 'NUM'), ('million', 'NUM'), ('*U*', 'X'), ('is', 'VERB'), ('scheduled', 'VERB'), ('*-1', 'X'), ('to', 'PRT'), ('close', 'VERB'), ('Monday', 'NOUN'), ('.', '.')]\n"
     ]
    }
   ],
   "source": [
    "print(\"Time taken in seconds: \", difference)\n",
    "print(tagged_seq)\n",
    "#print(test_run_base)"
   ]
  },
  {
   "cell_type": "code",
   "execution_count": 32,
   "metadata": {},
   "outputs": [
    {
     "data": {
      "text/plain": [
       "0.9212598425196851"
      ]
     },
     "execution_count": 32,
     "metadata": {},
     "output_type": "execute_result"
    }
   ],
   "source": [
    "# accuracy\n",
    "check = [i for i, j in zip(tagged_seq, test_run_base) if i == j]\n",
    "accuracy_vanilla_viterbi = len(check)/len(tagged_seq)\n",
    "accuracy_vanilla_viterbi"
   ]
  },
  {
   "cell_type": "code",
   "execution_count": 33,
   "metadata": {},
   "outputs": [
    {
     "data": {
      "text/plain": [
       "[[('York', 'NOUN'), (('financier', 'ADV'), ('financier', 'NOUN'))],\n",
       " [('financier', 'NOUN'), (('Saul', 'ADV'), ('Saul', 'NOUN'))],\n",
       " [('buy', 'VERB'), (('more', 'ADV'), ('more', 'ADJ'))],\n",
       " [('.', '.'), (('Interviews', 'ADV'), ('Interviews', 'NOUN'))],\n",
       " [('that', 'ADP'), (('Southeast', 'NOUN'), ('Southeast', 'ADJ'))],\n",
       " [('in', 'ADP'), (('fits', 'ADV'), ('fits', 'NOUN'))],\n",
       " [('and', 'CONJ'), (('starts', 'VERB'), ('starts', 'NOUN'))],\n",
       " [('Jerry', 'NOUN'), (('Chapman', 'ADV'), ('Chapman', 'NOUN'))],\n",
       " [('of', 'ADP'), (('WayMar', 'ADV'), ('WayMar', 'NOUN'))],\n",
       " [('0', 'X'), (('that', 'ADP'), ('that', 'DET'))]]"
      ]
     },
     "execution_count": 33,
     "metadata": {},
     "output_type": "execute_result"
    }
   ],
   "source": [
    "incorrect_tagged_vanilla_viterbi = [[test_run_base[i-1],j] for i, j in enumerate(zip(tagged_seq, test_run_base)) if j[0]!=j[1]]\n",
    "incorrect_tagged_vanilla_viterbi"
   ]
  },
  {
   "cell_type": "code",
   "execution_count": 38,
   "metadata": {},
   "outputs": [
    {
     "name": "stderr",
     "output_type": "stream",
     "text": [
      "[nltk_data] Downloading package punkt to\n",
      "[nltk_data]     C:\\Users\\jywan\\AppData\\Roaming\\nltk_data...\n",
      "[nltk_data]   Package punkt is already up-to-date!\n"
     ]
    }
   ],
   "source": [
    "## Testing\n",
    "nltk.download('punkt')\n",
    "\n",
    "sentence_test = 'Google and Twitter made a deal in 2015 that gave Google access to Twitter\\'s firehose.'\n",
    "words = word_tokenize(sentence_test)\n",
    "\n",
    "start = time.time()\n",
    "tagged_seq = Viterbi(words)\n",
    "end = time.time()\n",
    "difference = end-start"
   ]
  },
  {
   "cell_type": "code",
   "execution_count": 37,
   "metadata": {},
   "outputs": [
    {
     "name": "stdout",
     "output_type": "stream",
     "text": [
      "[('Google', 'ADV'), ('and', 'CONJ'), ('Twitter', 'ADV'), ('made', 'VERB'), ('a', 'DET'), ('deal', 'NOUN'), ('in', 'ADP'), ('2015', 'ADV'), ('that', 'ADP'), ('gave', 'VERB'), ('Google', 'ADV'), ('access', 'NOUN'), ('to', 'PRT'), ('Twitter', 'ADV'), (\"'s\", 'PRT'), ('firehose', 'ADV'), ('.', '.')]\n",
      "3.189504384994507\n"
     ]
    }
   ],
   "source": [
    "print(tagged_seq)\n",
    "print(difference)"
   ]
  },
  {
   "cell_type": "markdown",
   "metadata": {},
   "source": [
    "### Solve the problem of unknown words"
   ]
  },
  {
   "cell_type": "markdown",
   "metadata": {},
   "source": [
    "1. Use lexical techniqies on the same data to see if we get better <br>\n",
    "2. Use these to tag unknown words, then see if we get better.  \n",
    "\n"
   ]
  },
  {
   "cell_type": "markdown",
   "metadata": {},
   "source": [
    "Start with unigram tagger"
   ]
  },
  {
   "cell_type": "code",
   "execution_count": 39,
   "metadata": {},
   "outputs": [
    {
     "name": "stdout",
     "output_type": "stream",
     "text": [
      "0.8979307600477517\n"
     ]
    }
   ],
   "source": [
    "# Lexicon (or unigram tagger)\n",
    "unigram_tagger = nltk.UnigramTagger(train_set)\n",
    "accuracy_unigram_tagger = unigram_tagger.evaluate(test_set)\n",
    "print(accuracy_unigram_tagger)"
   ]
  },
  {
   "cell_type": "code",
   "execution_count": 40,
   "metadata": {},
   "outputs": [],
   "source": [
    "# specify patterns for tagging\n",
    "# example from the NLTK book\n",
    "patterns = [\n",
    "    (r'.*ing$', 'VBG'),              # gerund\n",
    "    (r'.*ed$', 'VBD'),               # past tense\n",
    "    (r'.*es$', 'VBZ'),               # 3rd singular present\n",
    "    (r'.*ould$', 'MD'),              # modals\n",
    "    (r'.*\\'s$', 'NN$'),              # possessive nouns\n",
    "    (r'.*s$', 'NNS'),                # plural nouns\n",
    "    (r'^-?[0-9]+(.[0-9]+)?$', 'CD'), # cardinal numbers\n",
    "    (r'.*', 'NN')                    # nouns\n",
    "]\n"
   ]
  },
  {
   "cell_type": "code",
   "execution_count": 41,
   "metadata": {},
   "outputs": [
    {
     "name": "stdout",
     "output_type": "stream",
     "text": [
      "0.8979307600477517\n"
     ]
    }
   ],
   "source": [
    "# rule based tagger\n",
    "rule_based_tagger = nltk.RegexpTagger(patterns)\n",
    "\n",
    "# lexicon backed up by the rule-based tagger\n",
    "lexicon_tagger = nltk.UnigramTagger(train_set, backoff=rule_based_tagger)\n",
    "\n",
    "accuracy_lexicon_tagger = lexicon_tagger.evaluate(test_set)\n",
    "print(accuracy_lexicon_tagger)"
   ]
  },
  {
   "cell_type": "markdown",
   "metadata": {},
   "source": [
    "Trigram tagger"
   ]
  },
  {
   "cell_type": "code",
   "execution_count": 42,
   "metadata": {},
   "outputs": [
    {
     "name": "stdout",
     "output_type": "stream",
     "text": [
      "0.9005173099880621\n"
     ]
    }
   ],
   "source": [
    "# Bigram and Trigram tagger\n",
    "bigram_tagger = nltk.BigramTagger(train_set,backoff=lexicon_tagger)\n",
    "bigram_tagger.evaluate(test_set)\n",
    "accuracy_bigram_tagger = bigram_tagger.evaluate(test_set)\n",
    "print(accuracy_bigram_tagger)"
   ]
  },
  {
   "cell_type": "code",
   "execution_count": 43,
   "metadata": {},
   "outputs": [
    {
     "name": "stdout",
     "output_type": "stream",
     "text": [
      "0.9013131715081576\n"
     ]
    }
   ],
   "source": [
    "trigram_tagger = nltk.TrigramTagger(train_set, backoff=bigram_tagger)\n",
    "trigram_tagger.evaluate(test_set)\n",
    "accuracy_trigram_tagger = trigram_tagger.evaluate(test_set)\n",
    "print(accuracy_trigram_tagger)"
   ]
  },
  {
   "cell_type": "markdown",
   "metadata": {},
   "source": [
    "Getting marginally better, but not by much. <br>\n",
    "Next lets see if we can use this for the unknown words \n"
   ]
  },
  {
   "cell_type": "markdown",
   "metadata": {},
   "source": [
    "Now to build this into viterbi, need to change the regex patterns to fit for the tags in our data (NOUN instead of NNS etc)  "
   ]
  },
  {
   "cell_type": "code",
   "execution_count": 44,
   "metadata": {},
   "outputs": [
    {
     "name": "stdout",
     "output_type": "stream",
     "text": [
      "{'ADV', 'CONJ', 'VERB', 'NOUN', 'ADP', 'NUM', 'DET', 'ADJ', 'PRT', '.', 'PRON', 'X'}\n"
     ]
    }
   ],
   "source": [
    "print(T)"
   ]
  },
  {
   "cell_type": "code",
   "execution_count": 45,
   "metadata": {},
   "outputs": [],
   "source": [
    "def trigram_tagger(word,train_set = train_set):\n",
    "    patterns1 = [\n",
    "    (r'.*ing$', 'VERB'),              # gerund\n",
    "    (r'.*ed$', 'VERB'),               # past tense\n",
    "    (r'.*es$', 'VERB'),               # 3rd singular present\n",
    "    (r'.*ould$', 'X'),              # modals\n",
    "    (r'.*\\'s$', 'NOUN'),              # possessive nouns\n",
    "    (r'.*s$', 'NOUN'),                # plural nouns\n",
    "    (r'^-?[0-9]+(.[0-9]+)?$', 'NUM'), # cardinal numbers\n",
    "    (r'.*', 'NOUN')                    # nouns\n",
    "    ]\n",
    "    regex_based_tagger = nltk.RegexpTagger(patterns1)\n",
    "\n",
    "    # trigram backed up by the regex tagger\n",
    "    trigram_regex_tagger = nltk.TrigramTagger(train_set, backoff=regex_based_tagger)\n",
    "    return trigram_regex_tagger.tag_sents([[(word)]])"
   ]
  },
  {
   "cell_type": "code",
   "execution_count": 46,
   "metadata": {},
   "outputs": [],
   "source": [
    "# viterbi with handling for unknown words from regex tagger\n",
    "\n",
    "def Viterbi_modified(words, train_bag = train_tagged_words):\n",
    "    state = []\n",
    "    T = list(set([pair[1] for pair in train_bag]))\n",
    "    \n",
    "    for key, word in enumerate(words):\n",
    "        # unknown words from trigram taggr\n",
    "        if word not in tokens:\n",
    "            unk_word_tag=trigram_tagger(word)\n",
    "            for sent in unk_word_tag:\n",
    "                for tup in sent:\n",
    "                    state.append(tup[1])\n",
    "        # rest remains same            \n",
    "        else:            \n",
    "            p = [] \n",
    "            for tag in T:\n",
    "                if key == 0:\n",
    "                    transition_p = tags_df.loc['.', tag]\n",
    "                else:\n",
    "                    transition_p = tags_df.loc[state[-1], tag]\n",
    "                \n",
    "            # compute emission and state probabilities\n",
    "                emission_p = word_given_tag(words[key], tag)[0]/word_given_tag(words[key], tag)[1]\n",
    "                state_probability = emission_p * transition_p    \n",
    "                p.append(state_probability)\n",
    "            \n",
    "            pmax = max(p)\n",
    "            # getting state for which probability is maximum\n",
    "            state_max = T[p.index(pmax)] \n",
    "            state.append(state_max)\n",
    "            \n",
    "    return list(zip(words, state))"
   ]
  },
  {
   "cell_type": "code",
   "execution_count": 47,
   "metadata": {},
   "outputs": [],
   "source": [
    "start = time.time()\n",
    "tagged_seq = Viterbi_modified(test_tagged_words)\n",
    "end = time.time()\n",
    "difference = end-start"
   ]
  },
  {
   "cell_type": "markdown",
   "metadata": {},
   "source": [
    "#### Evaluating tagging accuracy"
   ]
  },
  {
   "cell_type": "code",
   "execution_count": 48,
   "metadata": {},
   "outputs": [
    {
     "data": {
      "text/plain": [
       "['New',\n",
       " 'York',\n",
       " 'financier',\n",
       " 'Saul',\n",
       " 'Steinberg',\n",
       " 'sought',\n",
       " 'federal',\n",
       " 'permission',\n",
       " '*',\n",
       " 'to',\n",
       " 'buy',\n",
       " 'more',\n",
       " 'than',\n",
       " '15',\n",
       " '%',\n",
       " 'of',\n",
       " 'United',\n",
       " 'Airlines',\n",
       " \"'\",\n",
       " 'parent',\n",
       " ',',\n",
       " 'UAL',\n",
       " 'Corp.',\n",
       " ',',\n",
       " '*-1',\n",
       " 'saying',\n",
       " '0',\n",
       " 'he',\n",
       " 'might',\n",
       " 'seek',\n",
       " 'control',\n",
       " 'of',\n",
       " 'the',\n",
       " 'nation',\n",
       " \"'s\",\n",
       " 'second-largest',\n",
       " 'airline',\n",
       " '.',\n",
       " 'Interviews',\n",
       " 'with',\n",
       " 'analysts',\n",
       " 'and',\n",
       " 'business',\n",
       " 'people',\n",
       " 'in',\n",
       " 'the',\n",
       " 'U.S.',\n",
       " 'suggest',\n",
       " 'that',\n",
       " 'Japanese',\n",
       " 'capital',\n",
       " 'may',\n",
       " 'produce',\n",
       " 'the',\n",
       " 'economic',\n",
       " 'cooperation',\n",
       " 'that',\n",
       " 'Southeast',\n",
       " 'Asian',\n",
       " 'politicians',\n",
       " 'have',\n",
       " 'pursued',\n",
       " '*T*-2',\n",
       " 'in',\n",
       " 'fits',\n",
       " 'and',\n",
       " 'starts',\n",
       " 'for',\n",
       " 'decades',\n",
       " '.',\n",
       " 'Jerry',\n",
       " 'Chapman',\n",
       " ',',\n",
       " 'managing',\n",
       " 'director',\n",
       " 'of',\n",
       " 'WayMar',\n",
       " 'Associates',\n",
       " ',',\n",
       " 'was',\n",
       " 'elected',\n",
       " '*-1',\n",
       " 'a',\n",
       " 'director',\n",
       " 'of',\n",
       " 'this',\n",
       " 'business',\n",
       " 'telecommunications',\n",
       " 'software',\n",
       " 'and',\n",
       " 'systems',\n",
       " 'concern',\n",
       " '.',\n",
       " 'Dealers',\n",
       " 'said',\n",
       " '0',\n",
       " 'that',\n",
       " 'interpretation',\n",
       " 'sparked',\n",
       " 'expectations',\n",
       " 'of',\n",
       " 'an',\n",
       " 'imminent',\n",
       " 'bid',\n",
       " 'by',\n",
       " 'Ford',\n",
       " '.',\n",
       " 'Sony',\n",
       " \"'s\",\n",
       " 'planned',\n",
       " 'acquisition',\n",
       " 'of',\n",
       " 'Guber\\\\/Peters',\n",
       " 'Entertainment',\n",
       " 'Co.',\n",
       " 'for',\n",
       " '$',\n",
       " '200',\n",
       " 'million',\n",
       " '*U*',\n",
       " 'is',\n",
       " 'scheduled',\n",
       " '*-1',\n",
       " 'to',\n",
       " 'close',\n",
       " 'Monday',\n",
       " '.']"
      ]
     },
     "execution_count": 48,
     "metadata": {},
     "output_type": "execute_result"
    }
   ],
   "source": [
    "\n",
    "test_run_base = [tup for sent in test_run for tup in sent]\n",
    "\n",
    "# list of untagged words\n",
    "test_tagged_words = [tup[0] for sent in test_run for tup in sent]\n",
    "test_tagged_words"
   ]
  },
  {
   "cell_type": "code",
   "execution_count": 49,
   "metadata": {},
   "outputs": [],
   "source": [
    "# tagging the test sentences\n",
    "start = time.time()\n",
    "tagged_seq_modified = Viterbi_modified(test_tagged_words)\n",
    "end = time.time()\n",
    "difference = end-start"
   ]
  },
  {
   "cell_type": "code",
   "execution_count": 50,
   "metadata": {},
   "outputs": [
    {
     "name": "stdout",
     "output_type": "stream",
     "text": [
      "Time taken in seconds:  30.725459814071655\n",
      "[('New', 'NOUN'), ('York', 'NOUN'), ('financier', 'NOUN'), ('Saul', 'NOUN'), ('Steinberg', 'NOUN'), ('sought', 'VERB'), ('federal', 'ADJ'), ('permission', 'NOUN'), ('*', 'X'), ('to', 'PRT'), ('buy', 'VERB'), ('more', 'ADV'), ('than', 'ADP'), ('15', 'NUM'), ('%', 'NOUN'), ('of', 'ADP'), ('United', 'NOUN'), ('Airlines', 'NOUN'), (\"'\", 'PRT'), ('parent', 'NOUN'), (',', '.'), ('UAL', 'NOUN'), ('Corp.', 'NOUN'), (',', '.'), ('*-1', 'X'), ('saying', 'VERB'), ('0', 'X'), ('he', 'PRON'), ('might', 'VERB'), ('seek', 'VERB'), ('control', 'NOUN'), ('of', 'ADP'), ('the', 'DET'), ('nation', 'NOUN'), (\"'s\", 'PRT'), ('second-largest', 'ADJ'), ('airline', 'NOUN'), ('.', '.'), ('Interviews', 'NOUN'), ('with', 'ADP'), ('analysts', 'NOUN'), ('and', 'CONJ'), ('business', 'NOUN'), ('people', 'NOUN'), ('in', 'ADP'), ('the', 'DET'), ('U.S.', 'NOUN'), ('suggest', 'VERB'), ('that', 'ADP'), ('Japanese', 'ADJ'), ('capital', 'NOUN'), ('may', 'VERB'), ('produce', 'VERB'), ('the', 'DET'), ('economic', 'ADJ'), ('cooperation', 'NOUN'), ('that', 'ADP'), ('Southeast', 'NOUN'), ('Asian', 'ADJ'), ('politicians', 'NOUN'), ('have', 'VERB'), ('pursued', 'VERB'), ('*T*-2', 'X'), ('in', 'ADP'), ('fits', 'NOUN'), ('and', 'CONJ'), ('starts', 'VERB'), ('for', 'ADP'), ('decades', 'NOUN'), ('.', '.'), ('Jerry', 'NOUN'), ('Chapman', 'NOUN'), (',', '.'), ('managing', 'VERB'), ('director', 'NOUN'), ('of', 'ADP'), ('WayMar', 'NOUN'), ('Associates', 'NOUN'), (',', '.'), ('was', 'VERB'), ('elected', 'VERB'), ('*-1', 'X'), ('a', 'DET'), ('director', 'NOUN'), ('of', 'ADP'), ('this', 'DET'), ('business', 'NOUN'), ('telecommunications', 'NOUN'), ('software', 'NOUN'), ('and', 'CONJ'), ('systems', 'NOUN'), ('concern', 'NOUN'), ('.', '.'), ('Dealers', 'NOUN'), ('said', 'VERB'), ('0', 'X'), ('that', 'ADP'), ('interpretation', 'NOUN'), ('sparked', 'VERB'), ('expectations', 'NOUN'), ('of', 'ADP'), ('an', 'DET'), ('imminent', 'ADJ'), ('bid', 'NOUN'), ('by', 'ADP'), ('Ford', 'NOUN'), ('.', '.'), ('Sony', 'NOUN'), (\"'s\", 'PRT'), ('planned', 'VERB'), ('acquisition', 'NOUN'), ('of', 'ADP'), ('Guber\\\\/Peters', 'NOUN'), ('Entertainment', 'NOUN'), ('Co.', 'NOUN'), ('for', 'ADP'), ('$', '.'), ('200', 'NUM'), ('million', 'NUM'), ('*U*', 'X'), ('is', 'VERB'), ('scheduled', 'VERB'), ('*-1', 'X'), ('to', 'PRT'), ('close', 'VERB'), ('Monday', 'NOUN'), ('.', '.')]\n"
     ]
    }
   ],
   "source": [
    "print(\"Time taken in seconds: \", difference)\n",
    "print(tagged_seq_modified)\n",
    "#print(test_run_base)"
   ]
  },
  {
   "cell_type": "code",
   "execution_count": 53,
   "metadata": {},
   "outputs": [
    {
     "data": {
      "text/plain": [
       "0.968503937007874"
      ]
     },
     "execution_count": 53,
     "metadata": {},
     "output_type": "execute_result"
    }
   ],
   "source": [
    "# accuracy\n",
    "check1 = [i for i, j in zip(tagged_seq_modified, test_run_base) if i == j]\n",
    "accuracy_viterbi_modified = len(check1)/len(tagged_seq_modified)\n",
    "accuracy_viterbi_modified"
   ]
  },
  {
   "cell_type": "code",
   "execution_count": null,
   "metadata": {},
   "outputs": [],
   "source": []
  },
  {
   "cell_type": "markdown",
   "metadata": {},
   "source": [
    "### Compare the tagging accuracies of the modifications with the vanilla Viterbi algorithm"
   ]
  },
  {
   "cell_type": "code",
   "execution_count": 54,
   "metadata": {},
   "outputs": [
    {
     "name": "stdout",
     "output_type": "stream",
     "text": [
      "0.9212598425196851\n"
     ]
    }
   ],
   "source": [
    "print(accuracy_vanilla_viterbi)"
   ]
  },
  {
   "cell_type": "code",
   "execution_count": 55,
   "metadata": {},
   "outputs": [
    {
     "name": "stdout",
     "output_type": "stream",
     "text": [
      "0.8979307600477517\n"
     ]
    }
   ],
   "source": [
    "print(accuracy_unigram_tagger)"
   ]
  },
  {
   "cell_type": "code",
   "execution_count": 56,
   "metadata": {},
   "outputs": [
    {
     "name": "stdout",
     "output_type": "stream",
     "text": [
      "0.9005173099880621\n"
     ]
    }
   ],
   "source": [
    "print(accuracy_bigram_tagger)"
   ]
  },
  {
   "cell_type": "code",
   "execution_count": 57,
   "metadata": {},
   "outputs": [
    {
     "name": "stdout",
     "output_type": "stream",
     "text": [
      "0.8979307600477517\n"
     ]
    }
   ],
   "source": [
    "print(accuracy_lexicon_tagger)"
   ]
  },
  {
   "cell_type": "code",
   "execution_count": 58,
   "metadata": {},
   "outputs": [
    {
     "name": "stdout",
     "output_type": "stream",
     "text": [
      "0.968503937007874\n"
     ]
    }
   ],
   "source": [
    "print(accuracy_viterbi_modified)"
   ]
  },
  {
   "cell_type": "markdown",
   "metadata": {},
   "source": [
    "### List down cases which were incorrectly tagged by original POS tagger and got corrected by your modifications"
   ]
  },
  {
   "cell_type": "code",
   "execution_count": 60,
   "metadata": {},
   "outputs": [
    {
     "name": "stdout",
     "output_type": "stream",
     "text": [
      "Android is a mobile operating system developed by Google.\n",
      "Android has been the best-selling OS worldwide on smartphones since 2011 and on tablets since 2013.\n",
      "Google and Twitter made a deal in 2015 that gave Google access to Twitter's firehose.\n",
      "Twitter is an online news and social networking service on which users post and interact with messages known as tweets.\n",
      "Before entering politics, Donald Trump was a domineering businessman and a television personality.\n",
      "The 2018 FIFA World Cup is the 21st FIFA World Cup, an international football tournament contested once every four years.\n",
      "This is the first World Cup to be held in Eastern Europe and the 11th time that it has been held in Europe.\n",
      "Show me the cheapest round trips from Dallas to Atlanta\n",
      "I would like to see flights from Denver to Philadelphia.\n",
      "Show me the price of the flights leaving Atlanta at about 3 in the afternoon and arriving in San Francisco.\n",
      "NASA invited social media users to experience the launch of ICESAT-2 Satellite.\n"
     ]
    }
   ],
   "source": [
    "test_sentences = [    \n",
    "\"Android is a mobile operating system developed by Google.\",\n",
    "\"Android has been the best-selling OS worldwide on smartphones since 2011 and on tablets since 2013.\",\n",
    "\"Google and Twitter made a deal in 2015 that gave Google access to Twitter's firehose.\",\n",
    "\"Twitter is an online news and social networking service on which users post and interact with messages known as tweets.\",\n",
    "\"Before entering politics, Donald Trump was a domineering businessman and a television personality.\",\n",
    "\"The 2018 FIFA World Cup is the 21st FIFA World Cup, an international football tournament contested once every four years.\",\n",
    "\"This is the first World Cup to be held in Eastern Europe and the 11th time that it has been held in Europe.\",\n",
    "\"Show me the cheapest round trips from Dallas to Atlanta\",\n",
    "\"I would like to see flights from Denver to Philadelphia.\",\n",
    "\"Show me the price of the flights leaving Atlanta at about 3 in the afternoon and arriving in San Francisco.\",\n",
    "\"NASA invited social media users to experience the launch of ICESAT-2 Satellite.\",\n",
    "]\n",
    "\n",
    "for s in test_sentences:\n",
    "    print(s)"
   ]
  },
  {
   "cell_type": "code",
   "execution_count": null,
   "metadata": {},
   "outputs": [
    {
     "name": "stdout",
     "output_type": "stream",
     "text": [
      "\n",
      "\n",
      "\n",
      "testing sentece \"Android is a mobile operating system developed by Google.\"\n",
      "tagged sequence\n",
      "[('Android', 'ADV'), ('is', 'VERB'), ('a', 'DET'), ('mobile', 'ADJ'), ('operating', 'NOUN'), ('system', 'NOUN'), ('developed', 'VERB'), ('by', 'ADP'), ('Google', 'ADV'), ('.', '.')]\n",
      "tagged sequence by modified method\n",
      "[('Android', 'NOUN'), ('is', 'VERB'), ('a', 'DET'), ('mobile', 'ADJ'), ('operating', 'NOUN'), ('system', 'NOUN'), ('developed', 'VERB'), ('by', 'ADP'), ('Google', 'NOUN'), ('.', '.')]\n",
      "\n",
      "\n",
      "\n",
      "testing sentece \"Android has been the best-selling OS worldwide on smartphones since 2011 and on tablets since 2013.\"\n",
      "tagged sequence\n",
      "[('Android', 'ADV'), ('has', 'VERB'), ('been', 'VERB'), ('the', 'DET'), ('best-selling', 'ADJ'), ('OS', 'ADV'), ('worldwide', 'ADV'), ('on', 'ADP'), ('smartphones', 'ADV'), ('since', 'ADP'), ('2011', 'ADV'), ('and', 'CONJ'), ('on', 'ADP'), ('tablets', 'ADV'), ('since', 'ADP'), ('2013', 'ADV'), ('.', '.')]\n",
      "tagged sequence by modified method\n",
      "[('Android', 'NOUN'), ('has', 'VERB'), ('been', 'VERB'), ('the', 'DET'), ('best-selling', 'ADJ'), ('OS', 'NOUN'), ('worldwide', 'NOUN'), ('on', 'ADP'), ('smartphones', 'VERB'), ('since', 'ADP'), ('2011', 'NUM'), ('and', 'CONJ'), ('on', 'ADP'), ('tablets', 'NOUN'), ('since', 'ADP'), ('2013', 'NUM'), ('.', '.')]\n",
      "\n",
      "\n",
      "\n",
      "testing sentece \"Google and Twitter made a deal in 2015 that gave Google access to Twitter's firehose.\"\n",
      "tagged sequence\n",
      "[('Google', 'ADV'), ('and', 'CONJ'), ('Twitter', 'ADV'), ('made', 'VERB'), ('a', 'DET'), ('deal', 'NOUN'), ('in', 'ADP'), ('2015', 'ADV'), ('that', 'ADP'), ('gave', 'VERB'), ('Google', 'ADV'), ('access', 'NOUN'), ('to', 'PRT'), ('Twitter', 'ADV'), (\"'s\", 'PRT'), ('firehose', 'ADV'), ('.', '.')]\n",
      "tagged sequence by modified method\n",
      "[('Google', 'NOUN'), ('and', 'CONJ'), ('Twitter', 'NOUN'), ('made', 'VERB'), ('a', 'DET'), ('deal', 'NOUN'), ('in', 'ADP'), ('2015', 'NUM'), ('that', 'ADP'), ('gave', 'VERB'), ('Google', 'NOUN'), ('access', 'NOUN'), ('to', 'PRT'), ('Twitter', 'NOUN'), (\"'s\", 'PRT'), ('firehose', 'NOUN'), ('.', '.')]\n",
      "\n",
      "\n",
      "\n",
      "testing sentece \"Twitter is an online news and social networking service on which users post and interact with messages known as tweets.\"\n",
      "tagged sequence\n",
      "[('Twitter', 'ADV'), ('is', 'VERB'), ('an', 'DET'), ('online', 'ADV'), ('news', 'NOUN'), ('and', 'CONJ'), ('social', 'ADJ'), ('networking', 'NOUN'), ('service', 'NOUN'), ('on', 'ADP'), ('which', 'DET'), ('users', 'NOUN'), ('post', 'NOUN'), ('and', 'CONJ'), ('interact', 'ADV'), ('with', 'ADP'), ('messages', 'ADV'), ('known', 'VERB'), ('as', 'ADP'), ('tweets', 'ADV'), ('.', '.')]\n",
      "tagged sequence by modified method\n",
      "[('Twitter', 'NOUN'), ('is', 'VERB'), ('an', 'DET'), ('online', 'NOUN'), ('news', 'NOUN'), ('and', 'CONJ'), ('social', 'ADJ'), ('networking', 'NOUN'), ('service', 'NOUN'), ('on', 'ADP'), ('which', 'DET'), ('users', 'NOUN'), ('post', 'NOUN'), ('and', 'CONJ'), ('interact', 'NOUN'), ('with', 'ADP'), ('messages', 'VERB'), ('known', 'VERB'), ('as', 'ADP'), ('tweets', 'NOUN'), ('.', '.')]\n",
      "\n",
      "\n",
      "\n",
      "testing sentece \"Before entering politics, Donald Trump was a domineering businessman and a television personality.\"\n",
      "tagged sequence\n",
      "[('Before', 'ADP'), ('entering', 'VERB'), ('politics', 'NOUN'), (',', '.'), ('Donald', 'NOUN'), ('Trump', 'NOUN'), ('was', 'VERB'), ('a', 'DET'), ('domineering', 'ADV'), ('businessman', 'NOUN'), ('and', 'CONJ'), ('a', 'DET'), ('television', 'NOUN'), ('personality', 'ADV'), ('.', '.')]\n",
      "tagged sequence by modified method\n",
      "[('Before', 'ADP'), ('entering', 'VERB'), ('politics', 'NOUN'), (',', '.'), ('Donald', 'NOUN'), ('Trump', 'NOUN'), ('was', 'VERB'), ('a', 'DET'), ('domineering', 'VERB'), ('businessman', 'NOUN'), ('and', 'CONJ'), ('a', 'DET'), ('television', 'NOUN'), ('personality', 'NOUN'), ('.', '.')]\n",
      "\n",
      "\n",
      "\n",
      "testing sentece \"The 2018 FIFA World Cup is the 21st FIFA World Cup, an international football tournament contested once every four years.\"\n",
      "tagged sequence\n",
      "[('The', 'DET'), ('2018', 'ADV'), ('FIFA', 'ADV'), ('World', 'NOUN'), ('Cup', 'ADV'), ('is', 'VERB'), ('the', 'DET'), ('21st', 'ADV'), ('FIFA', 'ADV'), ('World', 'NOUN'), ('Cup', 'ADV'), (',', '.'), ('an', 'DET'), ('international', 'ADJ'), ('football', 'NOUN'), ('tournament', 'ADV'), ('contested', 'ADV'), ('once', 'ADV'), ('every', 'DET'), ('four', 'NUM'), ('years', 'NOUN'), ('.', '.')]\n"
     ]
    }
   ],
   "source": [
    "## Testing\n",
    "def test(sentence_test1):\n",
    "    print(\"\\n\\n\")\n",
    "    print(\"testing sentece \\\"%s\\\"\"%(sentence_test1))\n",
    "    words = word_tokenize(sentence_test1)\n",
    "    tagged_seq = Viterbi(words)\n",
    "    print(\"tagged sequence\")\n",
    "    print(tagged_seq)\n",
    "    tagged_seq_modified = Viterbi_modified(words)\n",
    "    print(\"tagged sequence by modified method\")\n",
    "    print(tagged_seq_modified)\n",
    "\n",
    "\n",
    "for s in test_sentences:\n",
    "    test(s)"
   ]
  },
  {
   "cell_type": "markdown",
   "metadata": {},
   "source": [
    "We see the new words - Youtube, Facebook, smartphone going from X to NOUN. We alse see the verb of Instagrammed,uploaded getting recognised correctly"
   ]
  },
  {
   "cell_type": "code",
   "execution_count": null,
   "metadata": {},
   "outputs": [],
   "source": []
  }
 ],
 "metadata": {
  "kernelspec": {
   "display_name": "Python 3",
   "language": "python",
   "name": "python3"
  },
  "language_info": {
   "codemirror_mode": {
    "name": "ipython",
    "version": 3
   },
   "file_extension": ".py",
   "mimetype": "text/x-python",
   "name": "python",
   "nbconvert_exporter": "python",
   "pygments_lexer": "ipython3",
   "version": "3.9.5"
  }
 },
 "nbformat": 4,
 "nbformat_minor": 4
}
